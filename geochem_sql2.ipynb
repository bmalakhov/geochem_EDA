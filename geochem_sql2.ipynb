{
 "cells": [
  {
   "cell_type": "markdown",
   "id": "f656804c",
   "metadata": {},
   "source": [
    "#### Calculations statistics of element distribution by the holes, with normalized sqlite database."
   ]
  },
  {
   "cell_type": "code",
   "execution_count": 50,
   "id": "5b77b8ff",
   "metadata": {},
   "outputs": [],
   "source": [
    "import sqlite3\n",
    "import pandas as pd\n",
    "import matplotlib.pyplot as plt  \n",
    "import os \n",
    "import re\n",
    "\n",
    "#Scott Halley's geochemistry data in geo3.db file\n",
    "ls_db_file_name = 'geo3.db' \n",
    "#what type of the data you want to use, all or labeled\n",
    "ls_labeled = 'labeled' \n",
    "#create empty dataframe\n",
    "df = pd.DataFrame(None)\n",
    "#create database connection\n",
    "connect_db = sqlite3.connect(ls_db_file_name)\n",
    "#lest get a elements_list from table 'elements'\n",
    "ls_sql0 = \"select name from elements\"\n",
    "cur = connect_db.cursor()\n",
    "cur.execute(ls_sql0)\n",
    "elements_list = cur.fetchall() # list of elements in elements_list"
   ]
  },
  {
   "cell_type": "code",
   "execution_count": 54,
   "id": "659a2afc",
   "metadata": {},
   "outputs": [],
   "source": [
    "#Function f_plot_drill_scatter creates jpg scatter diagrams one of 3 types S(D), K(D), S(K)\n",
    "\"\"\"\n",
    "arguments:\n",
    "as_element_name - string value like \"Ag\"\n",
    "as_labeled   - string value in set one of 2 variants \"all\", \"labeled\" - if labeled then only data with exclusion_ref=0\n",
    "as_type - string value in set one of 3 variants \"S(D)\", \"K(D)\", \"S(K)\" \n",
    "as_sub_folder - subfolder in your python catalog with jpg scattergrams\n",
    "connect_db - database connection object\n",
    "f_plot_drill_scatter(ls_tmp_element_name,'E(A)',connect_db)\n",
    "\"\"\"\n",
    "def f_plot_drill_scatter(as_element_name,as_labeled,as_type, as_sub_folder, connect_db):   \n",
    "    #clear local variables\n",
    "    ls_tmp_element_name = as_element_name\n",
    "    ls_main=''\n",
    "    ls_labeled=''\n",
    "    ls_tmp_color=''\n",
    "    df = pd.DataFrame(None)\n",
    "    print(ls_tmp_element_name)\n",
    "    # adds \"main\" word to diagram title for main elements  \n",
    "    if ls_tmp_element_name in ['Al','Ca','Fe','K','Mg','Na','S','Ti','SiO2']:\n",
    "        ls_main='main '\n",
    "    if as_labeled =='labeled':\n",
    "        ls_labeled=\"t2.description like '%-0' and\" \n",
    "    else: \n",
    "        ls_labeled=\"t2.description not like '%-0' and\" \n",
    "    # assemble sql query into ls_sql1 to extract data for element distribution by holes \n",
    "    ls_sql1 = \"select t1.* ,t2.description as desc,t2.mark as mark \"+ \\\n",
    "            \"from distrib_properties t1 ,assumptions  t2 \"+ \\\n",
    "            \"where \"+ls_labeled+\" t1.assumption_ref = t2.id and t1.element_ref in  \"+ \\\n",
    "             \" (select t2.id from elements t2 where t2.name= '\"+ ls_tmp_element_name+\"')\"\n",
    "    # print (ls_sql1)\n",
    "    # execute ls_Sql to dataframe df\n",
    "    query = connect_db.execute(ls_sql1)\n",
    "    cols = [column[0] for column in query.description]\n",
    "    df = pd.DataFrame.from_records(data = query.fetchall(), columns = cols)\n",
    "    # preparing diagram titles and axis names\n",
    "    plt.clf()\n",
    "    if as_type == 'S(D)':\n",
    "        ls_chart_name = ls_main + ls_tmp_element_name + ' Skewness vs Standard deviation'\n",
    "        ls_x_label = 'Standard deviation'  \n",
    "        ls_y_label = 'Skewness'\n",
    "        ls_file_name2='-0-S(SD)'\n",
    "    elif as_type == 'K(D)':\n",
    "        ls_chart_name = ls_main + ls_tmp_element_name + ' Kurtosis vs Standard deviation'\n",
    "        ls_x_label = 'Standard deviation'\n",
    "        ls_y_label = 'Kurtosis'     \n",
    "        ls_file_name2='-1-K(SD)'      \n",
    "    elif as_type == 'K(S)':\n",
    "        ls_chart_name = ls_main + ls_tmp_element_name + ' Kurtosis vs Skewness'\n",
    "        ls_x_label = 'Skewness'\n",
    "        ls_y_label = 'Kurtosis'\n",
    "        ls_file_name2='-2-K(S)'         \n",
    "    else:#if as_type not in S(D),K(D),S(K) then do nothing and exit\n",
    "        return \n",
    "    # plotting a scatter diagram    \n",
    "\n",
    "    fig = plt.figure(figsize=(10,5))\n",
    "    plt.title(ls_chart_name) \n",
    "    print (ls_chart_name+ls_tmp_element_name)\n",
    "    plt.xlabel(ls_x_label)\n",
    "    plt.ylabel(ls_y_label)\n",
    "    #plt.axis([-1, 10, -1, 5])\n",
    "    for i in range(0,len(df)): \n",
    "            if as_type == 'S(D)':    \n",
    "                plt.scatter(df['std_deviation'][i], df['skewness'][i],color = df['mark'][i]) #df['mark'][i]\n",
    "                plt.text(df['std_deviation'][i], df['skewness'][i], df['desc'][i], horizontalalignment='left', size='small', color='black')\n",
    "            elif as_type == 'K(D)': \n",
    "                plt.scatter(df['std_deviation'][i], df['kurtosis'][i],color = df['mark'][i]) #df['mark'][i]\n",
    "                plt.text(df['std_deviation'][i], df['kurtosis'][i], df['desc'][i], horizontalalignment='left', size='small', color='black')\n",
    "            elif as_type == 'K(S)':                \n",
    "                plt.scatter(df['skewness'][i], df['kurtosis'][i],color = df['mark'][i]) #df['mark'][i]\n",
    "                plt.text(df['skewness'][i], df['kurtosis'][i], df['desc'][i], horizontalalignment='left', size='small', color='black')\n",
    "    # save diagram  to jpg file              \n",
    "    plt.savefig(as_sub_folder+'/'+ls_tmp_element_name+ls_file_name2+'.jpg',bbox_inches='tight', dpi=150)\n"
   ]
  },
  {
   "cell_type": "code",
   "execution_count": 61,
   "id": "b8650774",
   "metadata": {},
   "outputs": [],
   "source": [
    "#specify subfolder where you want to create pictures\n",
    "ls_sub_folder='pic1' #pictures with diagram will be uploaded to this subfolder\n",
    "if not(os.path.isdir(ls_sub_folder)) :\n",
    "    os.mkdir(ls_sub_folder)"
   ]
  },
  {
   "cell_type": "code",
   "execution_count": 62,
   "id": "510b17ec",
   "metadata": {
    "scrolled": true
   },
   "outputs": [
    {
     "name": "stdout",
     "output_type": "stream",
     "text": [
      "0 ('Ag',) Ag\n",
      "Ag\n",
      "Ag Skewness vs Standard deviationAg\n",
      "Ag\n",
      "Ag Kurtosis vs Standard deviationAg\n",
      "Ag\n",
      "Ag Kurtosis vs SkewnessAg\n",
      "1 ('Al',) Al\n",
      "Al\n",
      "main Al Skewness vs Standard deviationAl\n",
      "Al\n",
      "main Al Kurtosis vs Standard deviationAl\n",
      "Al\n",
      "main Al Kurtosis vs SkewnessAl\n",
      "2 ('As',) As\n",
      "As\n",
      "As Skewness vs Standard deviationAs\n",
      "As\n",
      "As Kurtosis vs Standard deviationAs\n",
      "As\n",
      "As Kurtosis vs SkewnessAs\n",
      "3 ('Ba',) Ba\n",
      "Ba\n",
      "Ba Skewness vs Standard deviationBa\n",
      "Ba\n",
      "Ba Kurtosis vs Standard deviationBa\n",
      "Ba\n",
      "Ba Kurtosis vs SkewnessBa\n",
      "4 ('Be',) Be\n",
      "Be\n",
      "Be Skewness vs Standard deviationBe\n",
      "Be\n",
      "Be Kurtosis vs Standard deviationBe\n",
      "Be\n",
      "Be Kurtosis vs SkewnessBe\n",
      "5 ('Bi',) Bi\n",
      "Bi\n",
      "Bi Skewness vs Standard deviationBi\n",
      "Bi\n",
      "Bi Kurtosis vs Standard deviationBi\n",
      "Bi\n",
      "Bi Kurtosis vs SkewnessBi\n",
      "6 ('Ca',) Ca\n",
      "Ca\n",
      "main Ca Skewness vs Standard deviationCa\n",
      "Ca\n",
      "main Ca Kurtosis vs Standard deviationCa\n"
     ]
    },
    {
     "name": "stderr",
     "output_type": "stream",
     "text": [
      "C:\\Users\\b_malahov\\AppData\\Local\\Temp\\ipykernel_9432\\2648845245.py:57: RuntimeWarning: More than 20 figures have been opened. Figures created through the pyplot interface (`matplotlib.pyplot.figure`) are retained until explicitly closed and may consume too much memory. (To control this warning, see the rcParam `figure.max_open_warning`).\n",
      "  fig = plt.figure(figsize=(10,5))\n"
     ]
    },
    {
     "name": "stdout",
     "output_type": "stream",
     "text": [
      "Ca\n",
      "main Ca Kurtosis vs SkewnessCa\n",
      "7 ('Cd',) Cd\n",
      "Cd\n",
      "Cd Skewness vs Standard deviationCd\n",
      "Cd\n",
      "Cd Kurtosis vs Standard deviationCd\n",
      "Cd\n",
      "Cd Kurtosis vs SkewnessCd\n",
      "8 ('Ce',) Ce\n",
      "Ce\n",
      "Ce Skewness vs Standard deviationCe\n",
      "Ce\n",
      "Ce Kurtosis vs Standard deviationCe\n",
      "Ce\n",
      "Ce Kurtosis vs SkewnessCe\n",
      "9 ('Co',) Co\n",
      "Co\n",
      "Co Skewness vs Standard deviationCo\n",
      "Co\n",
      "Co Kurtosis vs Standard deviationCo\n",
      "Co\n",
      "Co Kurtosis vs SkewnessCo\n",
      "10 ('Cr',) Cr\n",
      "Cr\n",
      "Cr Skewness vs Standard deviationCr\n",
      "Cr\n",
      "Cr Kurtosis vs Standard deviationCr\n",
      "Cr\n",
      "Cr Kurtosis vs SkewnessCr\n",
      "11 ('Cs',) Cs\n",
      "Cs\n",
      "Cs Skewness vs Standard deviationCs\n",
      "Cs\n",
      "Cs Kurtosis vs Standard deviationCs\n",
      "Cs\n",
      "Cs Kurtosis vs SkewnessCs\n",
      "12 ('Fe',) Fe\n",
      "Fe\n",
      "main Fe Skewness vs Standard deviationFe\n",
      "Fe\n",
      "main Fe Kurtosis vs Standard deviationFe\n",
      "Fe\n",
      "main Fe Kurtosis vs SkewnessFe\n",
      "13 ('Ga',) Ga\n",
      "Ga\n",
      "Ga Skewness vs Standard deviationGa\n",
      "Ga\n",
      "Ga Kurtosis vs Standard deviationGa\n",
      "Ga\n",
      "Ga Kurtosis vs SkewnessGa\n",
      "14 ('Ge',) Ge\n",
      "Ge\n",
      "Ge Skewness vs Standard deviationGe\n",
      "Ge\n",
      "Ge Kurtosis vs Standard deviationGe\n",
      "Ge\n",
      "Ge Kurtosis vs SkewnessGe\n",
      "15 ('Hf',) Hf\n",
      "Hf\n",
      "Hf Skewness vs Standard deviationHf\n",
      "Hf\n",
      "Hf Kurtosis vs Standard deviationHf\n",
      "Hf\n",
      "Hf Kurtosis vs SkewnessHf\n",
      "16 ('In',) In\n",
      "In\n",
      "In Skewness vs Standard deviationIn\n",
      "In\n",
      "In Kurtosis vs Standard deviationIn\n",
      "In\n",
      "In Kurtosis vs SkewnessIn\n",
      "17 ('K',) K\n",
      "K\n",
      "main K Skewness vs Standard deviationK\n",
      "K\n",
      "main K Kurtosis vs Standard deviationK\n",
      "K\n",
      "main K Kurtosis vs SkewnessK\n",
      "18 ('La',) La\n",
      "La\n",
      "La Skewness vs Standard deviationLa\n",
      "La\n",
      "La Kurtosis vs Standard deviationLa\n",
      "La\n",
      "La Kurtosis vs SkewnessLa\n",
      "19 ('Li',) Li\n",
      "Li\n",
      "Li Skewness vs Standard deviationLi\n",
      "Li\n",
      "Li Kurtosis vs Standard deviationLi\n",
      "Li\n",
      "Li Kurtosis vs SkewnessLi\n",
      "20 ('Mg',) Mg\n",
      "Mg\n",
      "main Mg Skewness vs Standard deviationMg\n",
      "Mg\n",
      "main Mg Kurtosis vs Standard deviationMg\n",
      "Mg\n",
      "main Mg Kurtosis vs SkewnessMg\n",
      "21 ('Mn',) Mn\n",
      "Mn\n",
      "Mn Skewness vs Standard deviationMn\n",
      "Mn\n",
      "Mn Kurtosis vs Standard deviationMn\n",
      "Mn\n",
      "Mn Kurtosis vs SkewnessMn\n",
      "22 ('Mo',) Mo\n",
      "Mo\n",
      "Mo Skewness vs Standard deviationMo\n",
      "Mo\n",
      "Mo Kurtosis vs Standard deviationMo\n",
      "Mo\n",
      "Mo Kurtosis vs SkewnessMo\n",
      "23 ('Na',) Na\n",
      "Na\n",
      "main Na Skewness vs Standard deviationNa\n",
      "Na\n",
      "main Na Kurtosis vs Standard deviationNa\n",
      "Na\n",
      "main Na Kurtosis vs SkewnessNa\n",
      "24 ('Nb',) Nb\n",
      "Nb\n",
      "Nb Skewness vs Standard deviationNb\n",
      "Nb\n",
      "Nb Kurtosis vs Standard deviationNb\n",
      "Nb\n",
      "Nb Kurtosis vs SkewnessNb\n",
      "25 ('Ni',) Ni\n",
      "Ni\n",
      "Ni Skewness vs Standard deviationNi\n",
      "Ni\n",
      "Ni Kurtosis vs Standard deviationNi\n",
      "Ni\n",
      "Ni Kurtosis vs SkewnessNi\n",
      "26 ('P',) P\n",
      "P\n",
      "P Skewness vs Standard deviationP\n",
      "P\n",
      "P Kurtosis vs Standard deviationP\n",
      "P\n",
      "P Kurtosis vs SkewnessP\n",
      "27 ('Pb',) Pb\n",
      "Pb\n",
      "Pb Skewness vs Standard deviationPb\n",
      "Pb\n",
      "Pb Kurtosis vs Standard deviationPb\n",
      "Pb\n",
      "Pb Kurtosis vs SkewnessPb\n",
      "28 ('Rb',) Rb\n",
      "Rb\n",
      "Rb Skewness vs Standard deviationRb\n",
      "Rb\n",
      "Rb Kurtosis vs Standard deviationRb\n",
      "Rb\n",
      "Rb Kurtosis vs SkewnessRb\n",
      "29 ('Re',) Re\n",
      "Re\n",
      "Re Skewness vs Standard deviationRe\n",
      "Re\n",
      "Re Kurtosis vs Standard deviationRe\n",
      "Re\n",
      "Re Kurtosis vs SkewnessRe\n",
      "30 ('S',) S\n",
      "S\n",
      "main S Skewness vs Standard deviationS\n",
      "S\n",
      "main S Kurtosis vs Standard deviationS\n",
      "S\n",
      "main S Kurtosis vs SkewnessS\n",
      "31 ('Sb',) Sb\n",
      "Sb\n",
      "Sb Skewness vs Standard deviationSb\n",
      "Sb\n",
      "Sb Kurtosis vs Standard deviationSb\n",
      "Sb\n",
      "Sb Kurtosis vs SkewnessSb\n",
      "32 ('Sc',) Sc\n",
      "Sc\n",
      "Sc Skewness vs Standard deviationSc\n",
      "Sc\n",
      "Sc Kurtosis vs Standard deviationSc\n",
      "Sc\n",
      "Sc Kurtosis vs SkewnessSc\n",
      "33 ('Se',) Se\n",
      "Se\n",
      "Se Skewness vs Standard deviationSe\n",
      "Se\n",
      "Se Kurtosis vs Standard deviationSe\n",
      "Se\n",
      "Se Kurtosis vs SkewnessSe\n",
      "34 ('Sn',) Sn\n",
      "Sn\n",
      "Sn Skewness vs Standard deviationSn\n",
      "Sn\n",
      "Sn Kurtosis vs Standard deviationSn\n",
      "Sn\n",
      "Sn Kurtosis vs SkewnessSn\n",
      "35 ('Sr',) Sr\n",
      "Sr\n",
      "Sr Skewness vs Standard deviationSr\n",
      "Sr\n",
      "Sr Kurtosis vs Standard deviationSr\n",
      "Sr\n",
      "Sr Kurtosis vs SkewnessSr\n",
      "36 ('Ta',) Ta\n",
      "Ta\n",
      "Ta Skewness vs Standard deviationTa\n",
      "Ta\n",
      "Ta Kurtosis vs Standard deviationTa\n",
      "Ta\n",
      "Ta Kurtosis vs SkewnessTa\n",
      "37 ('Te',) Te\n",
      "Te\n",
      "Te Skewness vs Standard deviationTe\n",
      "Te\n",
      "Te Kurtosis vs Standard deviationTe\n",
      "Te\n",
      "Te Kurtosis vs SkewnessTe\n",
      "38 ('Th',) Th\n",
      "Th\n",
      "Th Skewness vs Standard deviationTh\n",
      "Th\n",
      "Th Kurtosis vs Standard deviationTh\n",
      "Th\n",
      "Th Kurtosis vs SkewnessTh\n",
      "39 ('Ti',) Ti\n",
      "Ti\n",
      "main Ti Skewness vs Standard deviationTi\n",
      "Ti\n",
      "main Ti Kurtosis vs Standard deviationTi\n",
      "Ti\n",
      "main Ti Kurtosis vs SkewnessTi\n",
      "40 ('Tl',) Tl\n",
      "Tl\n",
      "Tl Skewness vs Standard deviationTl\n",
      "Tl\n",
      "Tl Kurtosis vs Standard deviationTl\n",
      "Tl\n",
      "Tl Kurtosis vs SkewnessTl\n",
      "41 ('U',) U\n",
      "U\n",
      "U Skewness vs Standard deviationU\n",
      "U\n",
      "U Kurtosis vs Standard deviationU\n",
      "U\n",
      "U Kurtosis vs SkewnessU\n",
      "42 ('V',) V\n",
      "V\n",
      "V Skewness vs Standard deviationV\n",
      "V\n",
      "V Kurtosis vs Standard deviationV\n",
      "V\n",
      "V Kurtosis vs SkewnessV\n",
      "43 ('W',) W\n",
      "W\n",
      "W Skewness vs Standard deviationW\n",
      "W\n",
      "W Kurtosis vs Standard deviationW\n",
      "W\n",
      "W Kurtosis vs SkewnessW\n",
      "44 ('Y',) Y\n",
      "Y\n",
      "Y Skewness vs Standard deviationY\n",
      "Y\n",
      "Y Kurtosis vs Standard deviationY\n",
      "Y\n",
      "Y Kurtosis vs SkewnessY\n",
      "45 ('Zn',) Zn\n",
      "Zn\n",
      "Zn Skewness vs Standard deviationZn\n",
      "Zn\n",
      "Zn Kurtosis vs Standard deviationZn\n",
      "Zn\n",
      "Zn Kurtosis vs SkewnessZn\n",
      "46 ('Zr',) Zr\n",
      "Zr\n",
      "Zr Skewness vs Standard deviationZr\n",
      "Zr\n",
      "Zr Kurtosis vs Standard deviationZr\n",
      "Zr\n",
      "Zr Kurtosis vs SkewnessZr\n",
      "47 ('SiO2',) SiO2\n",
      "SiO2\n",
      "main SiO2 Skewness vs Standard deviationSiO2\n",
      "SiO2\n",
      "main SiO2 Kurtosis vs Standard deviationSiO2\n",
      "SiO2\n",
      "main SiO2 Kurtosis vs SkewnessSiO2\n"
     ]
    },
    {
     "data": {
      "text/plain": [
       "<Figure size 432x288 with 0 Axes>"
      ]
     },
     "metadata": {},
     "output_type": "display_data"
    },
    {
     "data": {
      "text/plain": [
       "<Figure size 720x360 with 0 Axes>"
      ]
     },
     "metadata": {},
     "output_type": "display_data"
    },
    {
     "data": {
      "text/plain": [
       "<Figure size 720x360 with 0 Axes>"
      ]
     },
     "metadata": {},
     "output_type": "display_data"
    },
    {
     "data": {
      "text/plain": [
       "<Figure size 720x360 with 0 Axes>"
      ]
     },
     "metadata": {},
     "output_type": "display_data"
    },
    {
     "data": {
      "text/plain": [
       "<Figure size 720x360 with 0 Axes>"
      ]
     },
     "metadata": {},
     "output_type": "display_data"
    },
    {
     "data": {
      "text/plain": [
       "<Figure size 720x360 with 0 Axes>"
      ]
     },
     "metadata": {},
     "output_type": "display_data"
    },
    {
     "data": {
      "text/plain": [
       "<Figure size 720x360 with 0 Axes>"
      ]
     },
     "metadata": {},
     "output_type": "display_data"
    },
    {
     "data": {
      "text/plain": [
       "<Figure size 720x360 with 0 Axes>"
      ]
     },
     "metadata": {},
     "output_type": "display_data"
    },
    {
     "data": {
      "text/plain": [
       "<Figure size 720x360 with 0 Axes>"
      ]
     },
     "metadata": {},
     "output_type": "display_data"
    },
    {
     "data": {
      "text/plain": [
       "<Figure size 720x360 with 0 Axes>"
      ]
     },
     "metadata": {},
     "output_type": "display_data"
    },
    {
     "data": {
      "text/plain": [
       "<Figure size 720x360 with 0 Axes>"
      ]
     },
     "metadata": {},
     "output_type": "display_data"
    },
    {
     "data": {
      "text/plain": [
       "<Figure size 720x360 with 0 Axes>"
      ]
     },
     "metadata": {},
     "output_type": "display_data"
    },
    {
     "data": {
      "text/plain": [
       "<Figure size 720x360 with 0 Axes>"
      ]
     },
     "metadata": {},
     "output_type": "display_data"
    },
    {
     "data": {
      "text/plain": [
       "<Figure size 720x360 with 0 Axes>"
      ]
     },
     "metadata": {},
     "output_type": "display_data"
    },
    {
     "data": {
      "text/plain": [
       "<Figure size 720x360 with 0 Axes>"
      ]
     },
     "metadata": {},
     "output_type": "display_data"
    },
    {
     "data": {
      "text/plain": [
       "<Figure size 720x360 with 0 Axes>"
      ]
     },
     "metadata": {},
     "output_type": "display_data"
    },
    {
     "data": {
      "text/plain": [
       "<Figure size 720x360 with 0 Axes>"
      ]
     },
     "metadata": {},
     "output_type": "display_data"
    },
    {
     "data": {
      "text/plain": [
       "<Figure size 720x360 with 0 Axes>"
      ]
     },
     "metadata": {},
     "output_type": "display_data"
    },
    {
     "data": {
      "text/plain": [
       "<Figure size 720x360 with 0 Axes>"
      ]
     },
     "metadata": {},
     "output_type": "display_data"
    },
    {
     "data": {
      "text/plain": [
       "<Figure size 720x360 with 0 Axes>"
      ]
     },
     "metadata": {},
     "output_type": "display_data"
    },
    {
     "data": {
      "text/plain": [
       "<Figure size 720x360 with 0 Axes>"
      ]
     },
     "metadata": {},
     "output_type": "display_data"
    },
    {
     "data": {
      "text/plain": [
       "<Figure size 720x360 with 0 Axes>"
      ]
     },
     "metadata": {},
     "output_type": "display_data"
    },
    {
     "data": {
      "text/plain": [
       "<Figure size 720x360 with 0 Axes>"
      ]
     },
     "metadata": {},
     "output_type": "display_data"
    },
    {
     "data": {
      "text/plain": [
       "<Figure size 720x360 with 0 Axes>"
      ]
     },
     "metadata": {},
     "output_type": "display_data"
    },
    {
     "data": {
      "text/plain": [
       "<Figure size 720x360 with 0 Axes>"
      ]
     },
     "metadata": {},
     "output_type": "display_data"
    },
    {
     "data": {
      "text/plain": [
       "<Figure size 720x360 with 0 Axes>"
      ]
     },
     "metadata": {},
     "output_type": "display_data"
    },
    {
     "data": {
      "text/plain": [
       "<Figure size 720x360 with 0 Axes>"
      ]
     },
     "metadata": {},
     "output_type": "display_data"
    },
    {
     "data": {
      "text/plain": [
       "<Figure size 720x360 with 0 Axes>"
      ]
     },
     "metadata": {},
     "output_type": "display_data"
    },
    {
     "data": {
      "text/plain": [
       "<Figure size 720x360 with 0 Axes>"
      ]
     },
     "metadata": {},
     "output_type": "display_data"
    },
    {
     "data": {
      "text/plain": [
       "<Figure size 720x360 with 0 Axes>"
      ]
     },
     "metadata": {},
     "output_type": "display_data"
    },
    {
     "data": {
      "text/plain": [
       "<Figure size 720x360 with 0 Axes>"
      ]
     },
     "metadata": {},
     "output_type": "display_data"
    },
    {
     "data": {
      "text/plain": [
       "<Figure size 720x360 with 0 Axes>"
      ]
     },
     "metadata": {},
     "output_type": "display_data"
    },
    {
     "data": {
      "text/plain": [
       "<Figure size 720x360 with 0 Axes>"
      ]
     },
     "metadata": {},
     "output_type": "display_data"
    },
    {
     "data": {
      "text/plain": [
       "<Figure size 720x360 with 0 Axes>"
      ]
     },
     "metadata": {},
     "output_type": "display_data"
    },
    {
     "data": {
      "text/plain": [
       "<Figure size 720x360 with 0 Axes>"
      ]
     },
     "metadata": {},
     "output_type": "display_data"
    },
    {
     "data": {
      "text/plain": [
       "<Figure size 720x360 with 0 Axes>"
      ]
     },
     "metadata": {},
     "output_type": "display_data"
    },
    {
     "data": {
      "text/plain": [
       "<Figure size 720x360 with 0 Axes>"
      ]
     },
     "metadata": {},
     "output_type": "display_data"
    },
    {
     "data": {
      "text/plain": [
       "<Figure size 720x360 with 0 Axes>"
      ]
     },
     "metadata": {},
     "output_type": "display_data"
    },
    {
     "data": {
      "text/plain": [
       "<Figure size 720x360 with 0 Axes>"
      ]
     },
     "metadata": {},
     "output_type": "display_data"
    },
    {
     "data": {
      "text/plain": [
       "<Figure size 720x360 with 0 Axes>"
      ]
     },
     "metadata": {},
     "output_type": "display_data"
    },
    {
     "data": {
      "text/plain": [
       "<Figure size 720x360 with 0 Axes>"
      ]
     },
     "metadata": {},
     "output_type": "display_data"
    },
    {
     "data": {
      "text/plain": [
       "<Figure size 720x360 with 0 Axes>"
      ]
     },
     "metadata": {},
     "output_type": "display_data"
    },
    {
     "data": {
      "text/plain": [
       "<Figure size 720x360 with 0 Axes>"
      ]
     },
     "metadata": {},
     "output_type": "display_data"
    },
    {
     "data": {
      "text/plain": [
       "<Figure size 720x360 with 0 Axes>"
      ]
     },
     "metadata": {},
     "output_type": "display_data"
    },
    {
     "data": {
      "text/plain": [
       "<Figure size 720x360 with 0 Axes>"
      ]
     },
     "metadata": {},
     "output_type": "display_data"
    },
    {
     "data": {
      "text/plain": [
       "<Figure size 720x360 with 0 Axes>"
      ]
     },
     "metadata": {},
     "output_type": "display_data"
    },
    {
     "data": {
      "text/plain": [
       "<Figure size 720x360 with 0 Axes>"
      ]
     },
     "metadata": {},
     "output_type": "display_data"
    },
    {
     "data": {
      "text/plain": [
       "<Figure size 720x360 with 0 Axes>"
      ]
     },
     "metadata": {},
     "output_type": "display_data"
    },
    {
     "data": {
      "text/plain": [
       "<Figure size 720x360 with 0 Axes>"
      ]
     },
     "metadata": {},
     "output_type": "display_data"
    },
    {
     "data": {
      "text/plain": [
       "<Figure size 720x360 with 0 Axes>"
      ]
     },
     "metadata": {},
     "output_type": "display_data"
    },
    {
     "data": {
      "text/plain": [
       "<Figure size 720x360 with 0 Axes>"
      ]
     },
     "metadata": {},
     "output_type": "display_data"
    },
    {
     "data": {
      "text/plain": [
       "<Figure size 720x360 with 0 Axes>"
      ]
     },
     "metadata": {},
     "output_type": "display_data"
    },
    {
     "data": {
      "text/plain": [
       "<Figure size 720x360 with 0 Axes>"
      ]
     },
     "metadata": {},
     "output_type": "display_data"
    },
    {
     "data": {
      "text/plain": [
       "<Figure size 720x360 with 0 Axes>"
      ]
     },
     "metadata": {},
     "output_type": "display_data"
    },
    {
     "data": {
      "text/plain": [
       "<Figure size 720x360 with 0 Axes>"
      ]
     },
     "metadata": {},
     "output_type": "display_data"
    },
    {
     "data": {
      "text/plain": [
       "<Figure size 720x360 with 0 Axes>"
      ]
     },
     "metadata": {},
     "output_type": "display_data"
    },
    {
     "data": {
      "text/plain": [
       "<Figure size 720x360 with 0 Axes>"
      ]
     },
     "metadata": {},
     "output_type": "display_data"
    },
    {
     "data": {
      "text/plain": [
       "<Figure size 720x360 with 0 Axes>"
      ]
     },
     "metadata": {},
     "output_type": "display_data"
    },
    {
     "data": {
      "text/plain": [
       "<Figure size 720x360 with 0 Axes>"
      ]
     },
     "metadata": {},
     "output_type": "display_data"
    },
    {
     "data": {
      "text/plain": [
       "<Figure size 720x360 with 0 Axes>"
      ]
     },
     "metadata": {},
     "output_type": "display_data"
    },
    {
     "data": {
      "text/plain": [
       "<Figure size 720x360 with 0 Axes>"
      ]
     },
     "metadata": {},
     "output_type": "display_data"
    },
    {
     "data": {
      "text/plain": [
       "<Figure size 720x360 with 0 Axes>"
      ]
     },
     "metadata": {},
     "output_type": "display_data"
    },
    {
     "data": {
      "text/plain": [
       "<Figure size 720x360 with 0 Axes>"
      ]
     },
     "metadata": {},
     "output_type": "display_data"
    },
    {
     "data": {
      "text/plain": [
       "<Figure size 720x360 with 0 Axes>"
      ]
     },
     "metadata": {},
     "output_type": "display_data"
    },
    {
     "data": {
      "text/plain": [
       "<Figure size 720x360 with 0 Axes>"
      ]
     },
     "metadata": {},
     "output_type": "display_data"
    },
    {
     "data": {
      "text/plain": [
       "<Figure size 720x360 with 0 Axes>"
      ]
     },
     "metadata": {},
     "output_type": "display_data"
    },
    {
     "data": {
      "text/plain": [
       "<Figure size 720x360 with 0 Axes>"
      ]
     },
     "metadata": {},
     "output_type": "display_data"
    },
    {
     "data": {
      "text/plain": [
       "<Figure size 720x360 with 0 Axes>"
      ]
     },
     "metadata": {},
     "output_type": "display_data"
    },
    {
     "data": {
      "text/plain": [
       "<Figure size 720x360 with 0 Axes>"
      ]
     },
     "metadata": {},
     "output_type": "display_data"
    },
    {
     "data": {
      "text/plain": [
       "<Figure size 720x360 with 0 Axes>"
      ]
     },
     "metadata": {},
     "output_type": "display_data"
    },
    {
     "data": {
      "text/plain": [
       "<Figure size 720x360 with 0 Axes>"
      ]
     },
     "metadata": {},
     "output_type": "display_data"
    },
    {
     "data": {
      "text/plain": [
       "<Figure size 720x360 with 0 Axes>"
      ]
     },
     "metadata": {},
     "output_type": "display_data"
    },
    {
     "data": {
      "text/plain": [
       "<Figure size 720x360 with 0 Axes>"
      ]
     },
     "metadata": {},
     "output_type": "display_data"
    },
    {
     "data": {
      "text/plain": [
       "<Figure size 720x360 with 0 Axes>"
      ]
     },
     "metadata": {},
     "output_type": "display_data"
    },
    {
     "data": {
      "text/plain": [
       "<Figure size 720x360 with 0 Axes>"
      ]
     },
     "metadata": {},
     "output_type": "display_data"
    },
    {
     "data": {
      "text/plain": [
       "<Figure size 720x360 with 0 Axes>"
      ]
     },
     "metadata": {},
     "output_type": "display_data"
    },
    {
     "data": {
      "text/plain": [
       "<Figure size 720x360 with 0 Axes>"
      ]
     },
     "metadata": {},
     "output_type": "display_data"
    },
    {
     "data": {
      "text/plain": [
       "<Figure size 720x360 with 0 Axes>"
      ]
     },
     "metadata": {},
     "output_type": "display_data"
    },
    {
     "data": {
      "text/plain": [
       "<Figure size 720x360 with 0 Axes>"
      ]
     },
     "metadata": {},
     "output_type": "display_data"
    },
    {
     "data": {
      "text/plain": [
       "<Figure size 720x360 with 0 Axes>"
      ]
     },
     "metadata": {},
     "output_type": "display_data"
    },
    {
     "data": {
      "text/plain": [
       "<Figure size 720x360 with 0 Axes>"
      ]
     },
     "metadata": {},
     "output_type": "display_data"
    },
    {
     "data": {
      "text/plain": [
       "<Figure size 720x360 with 0 Axes>"
      ]
     },
     "metadata": {},
     "output_type": "display_data"
    },
    {
     "data": {
      "text/plain": [
       "<Figure size 720x360 with 0 Axes>"
      ]
     },
     "metadata": {},
     "output_type": "display_data"
    },
    {
     "data": {
      "text/plain": [
       "<Figure size 720x360 with 0 Axes>"
      ]
     },
     "metadata": {},
     "output_type": "display_data"
    },
    {
     "data": {
      "text/plain": [
       "<Figure size 720x360 with 0 Axes>"
      ]
     },
     "metadata": {},
     "output_type": "display_data"
    },
    {
     "data": {
      "text/plain": [
       "<Figure size 720x360 with 0 Axes>"
      ]
     },
     "metadata": {},
     "output_type": "display_data"
    },
    {
     "data": {
      "text/plain": [
       "<Figure size 720x360 with 0 Axes>"
      ]
     },
     "metadata": {},
     "output_type": "display_data"
    },
    {
     "data": {
      "text/plain": [
       "<Figure size 720x360 with 0 Axes>"
      ]
     },
     "metadata": {},
     "output_type": "display_data"
    },
    {
     "data": {
      "text/plain": [
       "<Figure size 720x360 with 0 Axes>"
      ]
     },
     "metadata": {},
     "output_type": "display_data"
    },
    {
     "data": {
      "text/plain": [
       "<Figure size 720x360 with 0 Axes>"
      ]
     },
     "metadata": {},
     "output_type": "display_data"
    },
    {
     "data": {
      "text/plain": [
       "<Figure size 720x360 with 0 Axes>"
      ]
     },
     "metadata": {},
     "output_type": "display_data"
    },
    {
     "data": {
      "text/plain": [
       "<Figure size 720x360 with 0 Axes>"
      ]
     },
     "metadata": {},
     "output_type": "display_data"
    },
    {
     "data": {
      "text/plain": [
       "<Figure size 720x360 with 0 Axes>"
      ]
     },
     "metadata": {},
     "output_type": "display_data"
    },
    {
     "data": {
      "text/plain": [
       "<Figure size 720x360 with 0 Axes>"
      ]
     },
     "metadata": {},
     "output_type": "display_data"
    },
    {
     "data": {
      "text/plain": [
       "<Figure size 720x360 with 0 Axes>"
      ]
     },
     "metadata": {},
     "output_type": "display_data"
    },
    {
     "data": {
      "text/plain": [
       "<Figure size 720x360 with 0 Axes>"
      ]
     },
     "metadata": {},
     "output_type": "display_data"
    },
    {
     "data": {
      "text/plain": [
       "<Figure size 720x360 with 0 Axes>"
      ]
     },
     "metadata": {},
     "output_type": "display_data"
    },
    {
     "data": {
      "text/plain": [
       "<Figure size 720x360 with 0 Axes>"
      ]
     },
     "metadata": {},
     "output_type": "display_data"
    },
    {
     "data": {
      "text/plain": [
       "<Figure size 720x360 with 0 Axes>"
      ]
     },
     "metadata": {},
     "output_type": "display_data"
    },
    {
     "data": {
      "text/plain": [
       "<Figure size 720x360 with 0 Axes>"
      ]
     },
     "metadata": {},
     "output_type": "display_data"
    },
    {
     "data": {
      "text/plain": [
       "<Figure size 720x360 with 0 Axes>"
      ]
     },
     "metadata": {},
     "output_type": "display_data"
    },
    {
     "data": {
      "text/plain": [
       "<Figure size 720x360 with 0 Axes>"
      ]
     },
     "metadata": {},
     "output_type": "display_data"
    },
    {
     "data": {
      "text/plain": [
       "<Figure size 720x360 with 0 Axes>"
      ]
     },
     "metadata": {},
     "output_type": "display_data"
    },
    {
     "data": {
      "text/plain": [
       "<Figure size 720x360 with 0 Axes>"
      ]
     },
     "metadata": {},
     "output_type": "display_data"
    },
    {
     "data": {
      "text/plain": [
       "<Figure size 720x360 with 0 Axes>"
      ]
     },
     "metadata": {},
     "output_type": "display_data"
    },
    {
     "data": {
      "text/plain": [
       "<Figure size 720x360 with 0 Axes>"
      ]
     },
     "metadata": {},
     "output_type": "display_data"
    },
    {
     "data": {
      "text/plain": [
       "<Figure size 720x360 with 0 Axes>"
      ]
     },
     "metadata": {},
     "output_type": "display_data"
    },
    {
     "data": {
      "text/plain": [
       "<Figure size 720x360 with 0 Axes>"
      ]
     },
     "metadata": {},
     "output_type": "display_data"
    },
    {
     "data": {
      "text/plain": [
       "<Figure size 720x360 with 0 Axes>"
      ]
     },
     "metadata": {},
     "output_type": "display_data"
    },
    {
     "data": {
      "text/plain": [
       "<Figure size 720x360 with 0 Axes>"
      ]
     },
     "metadata": {},
     "output_type": "display_data"
    },
    {
     "data": {
      "text/plain": [
       "<Figure size 720x360 with 0 Axes>"
      ]
     },
     "metadata": {},
     "output_type": "display_data"
    },
    {
     "data": {
      "text/plain": [
       "<Figure size 720x360 with 0 Axes>"
      ]
     },
     "metadata": {},
     "output_type": "display_data"
    },
    {
     "data": {
      "text/plain": [
       "<Figure size 720x360 with 0 Axes>"
      ]
     },
     "metadata": {},
     "output_type": "display_data"
    },
    {
     "data": {
      "text/plain": [
       "<Figure size 720x360 with 0 Axes>"
      ]
     },
     "metadata": {},
     "output_type": "display_data"
    },
    {
     "data": {
      "text/plain": [
       "<Figure size 720x360 with 0 Axes>"
      ]
     },
     "metadata": {},
     "output_type": "display_data"
    },
    {
     "data": {
      "text/plain": [
       "<Figure size 720x360 with 0 Axes>"
      ]
     },
     "metadata": {},
     "output_type": "display_data"
    },
    {
     "data": {
      "text/plain": [
       "<Figure size 720x360 with 0 Axes>"
      ]
     },
     "metadata": {},
     "output_type": "display_data"
    },
    {
     "data": {
      "text/plain": [
       "<Figure size 720x360 with 0 Axes>"
      ]
     },
     "metadata": {},
     "output_type": "display_data"
    },
    {
     "data": {
      "text/plain": [
       "<Figure size 720x360 with 0 Axes>"
      ]
     },
     "metadata": {},
     "output_type": "display_data"
    },
    {
     "data": {
      "text/plain": [
       "<Figure size 720x360 with 0 Axes>"
      ]
     },
     "metadata": {},
     "output_type": "display_data"
    },
    {
     "data": {
      "text/plain": [
       "<Figure size 720x360 with 0 Axes>"
      ]
     },
     "metadata": {},
     "output_type": "display_data"
    },
    {
     "data": {
      "text/plain": [
       "<Figure size 720x360 with 0 Axes>"
      ]
     },
     "metadata": {},
     "output_type": "display_data"
    },
    {
     "data": {
      "text/plain": [
       "<Figure size 720x360 with 0 Axes>"
      ]
     },
     "metadata": {},
     "output_type": "display_data"
    },
    {
     "data": {
      "text/plain": [
       "<Figure size 720x360 with 0 Axes>"
      ]
     },
     "metadata": {},
     "output_type": "display_data"
    },
    {
     "data": {
      "text/plain": [
       "<Figure size 720x360 with 0 Axes>"
      ]
     },
     "metadata": {},
     "output_type": "display_data"
    },
    {
     "data": {
      "text/plain": [
       "<Figure size 720x360 with 0 Axes>"
      ]
     },
     "metadata": {},
     "output_type": "display_data"
    },
    {
     "data": {
      "text/plain": [
       "<Figure size 720x360 with 0 Axes>"
      ]
     },
     "metadata": {},
     "output_type": "display_data"
    },
    {
     "data": {
      "text/plain": [
       "<Figure size 720x360 with 0 Axes>"
      ]
     },
     "metadata": {},
     "output_type": "display_data"
    },
    {
     "data": {
      "text/plain": [
       "<Figure size 720x360 with 0 Axes>"
      ]
     },
     "metadata": {},
     "output_type": "display_data"
    },
    {
     "data": {
      "text/plain": [
       "<Figure size 720x360 with 0 Axes>"
      ]
     },
     "metadata": {},
     "output_type": "display_data"
    },
    {
     "data": {
      "text/plain": [
       "<Figure size 720x360 with 0 Axes>"
      ]
     },
     "metadata": {},
     "output_type": "display_data"
    },
    {
     "data": {
      "text/plain": [
       "<Figure size 720x360 with 0 Axes>"
      ]
     },
     "metadata": {},
     "output_type": "display_data"
    },
    {
     "data": {
      "text/plain": [
       "<Figure size 720x360 with 0 Axes>"
      ]
     },
     "metadata": {},
     "output_type": "display_data"
    },
    {
     "data": {
      "text/plain": [
       "<Figure size 720x360 with 0 Axes>"
      ]
     },
     "metadata": {},
     "output_type": "display_data"
    },
    {
     "data": {
      "text/plain": [
       "<Figure size 720x360 with 0 Axes>"
      ]
     },
     "metadata": {},
     "output_type": "display_data"
    },
    {
     "data": {
      "text/plain": [
       "<Figure size 720x360 with 0 Axes>"
      ]
     },
     "metadata": {},
     "output_type": "display_data"
    },
    {
     "data": {
      "text/plain": [
       "<Figure size 720x360 with 0 Axes>"
      ]
     },
     "metadata": {},
     "output_type": "display_data"
    },
    {
     "data": {
      "text/plain": [
       "<Figure size 720x360 with 0 Axes>"
      ]
     },
     "metadata": {},
     "output_type": "display_data"
    },
    {
     "data": {
      "text/plain": [
       "<Figure size 720x360 with 0 Axes>"
      ]
     },
     "metadata": {},
     "output_type": "display_data"
    },
    {
     "data": {
      "text/plain": [
       "<Figure size 720x360 with 0 Axes>"
      ]
     },
     "metadata": {},
     "output_type": "display_data"
    },
    {
     "data": {
      "text/plain": [
       "<Figure size 720x360 with 0 Axes>"
      ]
     },
     "metadata": {},
     "output_type": "display_data"
    },
    {
     "data": {
      "text/plain": [
       "<Figure size 720x360 with 0 Axes>"
      ]
     },
     "metadata": {},
     "output_type": "display_data"
    },
    {
     "data": {
      "text/plain": [
       "<Figure size 720x360 with 0 Axes>"
      ]
     },
     "metadata": {},
     "output_type": "display_data"
    },
    {
     "data": {
      "text/plain": [
       "<Figure size 720x360 with 0 Axes>"
      ]
     },
     "metadata": {},
     "output_type": "display_data"
    },
    {
     "data": {
      "image/png": "[encoded data removed]",
      "text/plain": [
       "<Figure size 720x360 with 1 Axes>"
      ]
     },
     "metadata": {
      "needs_background": "light"
     },
     "output_type": "display_data"
    }
   ],
   "source": [
    "#generate 144 diagrams in pic folder ls_sub_folder\n",
    "for i in range(0, len(elements_list)):\n",
    "#for i in range(20, 2):    \n",
    "    #this regexp clears elements_list from extra characters\n",
    "    reg = re.compile('[^a-zA-Z0-9]')\n",
    "    ls_tmp_element_name=reg.sub('', str(elements_list[i]))   \n",
    "    #create 3 diagram files to each element \n",
    "    f_plot_drill_scatter(ls_tmp_element_name,ls_labeled,'S(D)',ls_sub_folder,connect_db)\n",
    "    f_plot_drill_scatter(ls_tmp_element_name,ls_labeled,'K(D)',ls_sub_folder,connect_db)\n",
    "    f_plot_drill_scatter(ls_tmp_element_name,ls_labeled,'K(S)',ls_sub_folder,connect_db)        "
   ]
  },
  {
   "cell_type": "code",
   "execution_count": 7,
   "id": "a0be8f07",
   "metadata": {},
   "outputs": [
    {
     "data": {
      "text/plain": [
       "\"Let's analyse 144 scatter diagrams in subfolder ../pic\""
      ]
     },
     "execution_count": 7,
     "metadata": {},
     "output_type": "execute_result"
    }
   ],
   "source": [
    "\"Let's analyse 144 scatter diagrams in subfolder ../\"+ls_sub_folder"
   ]
  },
  {
   "cell_type": "raw",
   "id": "db25939d",
   "metadata": {},
   "source": [
    "Visual anomalies in raw data distributions by drill holes.\n",
    "What to do:\n",
    "1.Check Ag data in DDH011 - Checked, no doubts found about statistical errors.\n",
    "2.Interesting Berillium anomaly in DDH004 hole l Be-0-S(SD).jpg\n",
    "3.Check Cd data in DDH001 vs other\n",
    "4.Check Co data in DDH008 vs other\n",
    "5.Check Cr data in DDH009 vs other\n",
    "6.Check Ge data in DDH010 vs other\n",
    "7.Check Hf data in DDH013 vs other\n",
    "8.Check In data in DDH011 vs other\n",
    "9.Check La data in DDH011 vs other\n",
    "10.Check Li data in DDH010 vs other\n",
    "11.Check Mg data in DDH010 vs other\n",
    "12.Check Mo data in DDH008 vs other\n",
    "13.Check Ni data in DDH010 vs other\n",
    "14.Check Rb data in DDH008 vs other\n",
    "15.Check Re data in DDH013 suspition to outlier\n",
    "16.Check Sb data in DDH008 vs other\n",
    "17.Check Se data in DDH008 vs other\n",
    "18.Check Sn data in DDH008 vs other\n",
    "19.Check Sr data in DDH008 vs other\n",
    "20.Check Ta data in DDH009 suspition to outlier\n",
    "21.Check Te data in DDH013,DDH014 suspition to outlier\n",
    "22.Check main Ti data in DDH003,DDH007 not sure, suspition to outlier\n",
    "23.Check U data in DDH013 vs other\n",
    "24.Check V data in DDH007 vs other\n",
    "25.Check W data in DDH007 vs other\n",
    "26.Check Y data in DDH003\n",
    "27.Check Zn data in DDH001\n",
    "28.Check Zr data in DDH013\n",
    "\n",
    "So the data from 1,7,8,9,10,11,13 drill holes contains some strange.\n",
    "The  DDH008 is a leader.\n",
    "The next step is to label the data in the db. Let's exclusion_ref = 1 - outlier, 2-below the LOD. "
   ]
  },
  {
   "cell_type": "code",
   "execution_count": 13,
   "id": "0f07a13a",
   "metadata": {},
   "outputs": [
    {
     "data": {
      "text/plain": [
       "[(16126, 9.13, -6, 'Be'),\n",
       " (16155, 2.68, -6, 'Be'),\n",
       " (16125, 2.58, -6, 'Be'),\n",
       " (16128, 2.46, -6, 'Be'),\n",
       " (16164, 2.45, -6, 'Be')]"
      ]
     },
     "execution_count": 13,
     "metadata": {},
     "output_type": "execute_result"
    }
   ],
   "source": [
    "#For examle, let's see the beryllium anomaly.  Extract firts 5 values Be data from hole DDH004 with descending sorting  \n",
    "ls_sql1='select t1.id, t1.mant,t1.expo,t2.name from data t1, elements t2, samples t3, holes t4 '+ \\\n",
    "'where t1.element_ref=t2.id and t1.sample_ref=t3.id and t3.hole_ref=t4.id  '+ \\\n",
    "'and t4.name=\"DDH004\"   /*hole name*/ '+ \\\n",
    "'and t2.name=\"Be\"  /*element number*/ '+ \\\n",
    "'order by t1.mant desc LIMIT 5;'\n",
    "cur.execute(ls_sql1)\n",
    "elements_list = cur.fetchall()\n",
    "elements_list"
   ]
  },
  {
   "cell_type": "markdown",
   "id": "8c7bdad7",
   "metadata": {},
   "source": [
    "The value with id=16126 is a candidate to labeling by exclusion_ref = 1 "
   ]
  }
 ],
 "metadata": {
  "kernelspec": {
   "display_name": "Python 3 (ipykernel)",
   "language": "python",
   "name": "python3"
  },
  "language_info": {
   "codemirror_mode": {
    "name": "ipython",
    "version": 3
   },
   "file_extension": ".py",
   "mimetype": "text/x-python",
   "name": "python",
   "nbconvert_exporter": "python",
   "pygments_lexer": "ipython3",
   "version": "3.9.12"
  }
 },
 "nbformat": 4,
 "nbformat_minor": 5
}
