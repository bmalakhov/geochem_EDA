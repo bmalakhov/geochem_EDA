{
 "cells": [
  {
   "cell_type": "markdown",
   "id": "f656804c",
   "metadata": {},
   "source": [
    "Calculations statistics of element distribution by the holes, with normalized sqlite database."
   ]
  },
  {
   "cell_type": "code",
   "execution_count": 36,
   "id": "5b77b8ff",
   "metadata": {},
   "outputs": [],
   "source": [
    "import sqlite3\n",
    "import pandas as pd\n",
    "import matplotlib.pyplot as plt  \n",
    "import os \n",
    "import re\n",
    "\n",
    "#Scott Halley's geochemistry data in normilized sqqlite database is in geo3.db file\n",
    "ls_db_file_name = 'geo3.db' \n",
    "#create empty dataframe\n",
    "df = pd.DataFrame(None)\n",
    "#create database connection\n",
    "connect_db = sqlite3.connect(ls_db_file_name)\n",
    "#lest get a elements_list from table 'elements'\n",
    "ls_sql0 = \"select name from elements\"\n",
    "cur = connect_db.cursor()\n",
    "cur.execute(ls_sql0)\n",
    "elements_list = cur.fetchall() # list of elements in elements_list"
   ]
  },
  {
   "cell_type": "code",
   "execution_count": 37,
   "id": "659a2afc",
   "metadata": {},
   "outputs": [],
   "source": [
    "#function f_plot_drill_scatter creates  jpg scatter diagrams one of 3 types S(D),K(D),S(K)\n",
    "#arguments:\n",
    "#as_element_name - value like  \"Ag\"\n",
    "#as_type - value like  \"S(K)\" \n",
    "#as_sub_folder - subfolder with jpg Scattergram\n",
    "#connect_db - database connection object\n",
    "#f_plot_drill_scatter(ls_tmp_element_name,'E(A)',connect_db)\n",
    "def f_plot_drill_scatter(as_element_name,as_type, as_sub_folder, connect_db):   \n",
    "    #clear local variables\n",
    "    ls_tmp_element_name = as_element_name\n",
    "    ls_main=''\n",
    "    df = pd.DataFrame(None)\n",
    "    print(ls_tmp_element_name)\n",
    "    # adds \"main\" word to diagram title for main elements  \n",
    "    if ls_tmp_element_name in ['Al','Ca','Fe','K','Mg','Na','S','Ti','SiO2']:\n",
    "        ls_main='main '\n",
    "    # assemble sql query into ls_sql1 to extract data for element distribution by holes \n",
    "    ls_sql1 = \"select t1.* ,t2.description as desc,t2.mark as mark \"+ \\\n",
    "            \"from distrib_properties t1 ,assumptions t2 \"+ \\\n",
    "            \"where t1.assumption_ref = t2.id and t1.element_ref in  \"+ \\\n",
    "             \" (select t2.id from elements t2 where t2.name= '\"+ ls_tmp_element_name+\"')\"\n",
    "    # execute ls_Sql to dataframe df\n",
    "    query = connect_db.execute(ls_sql1)\n",
    "    cols = [column[0] for column in query.description]\n",
    "    df = pd.DataFrame.from_records(data = query.fetchall(), columns = cols)\n",
    "    # preparing diagram titles and axis names\n",
    "    plt.clf()\n",
    "    if as_type == 'S(D)':\n",
    "        ls_chart_name = ls_main + ls_tmp_element_name + ' S(SD)'\n",
    "        ls_x_label = 'Standard deviation'  \n",
    "        ls_y_label = 'Skewness'\n",
    "        ls_file_name2='-0-S(SD)'\n",
    "    elif as_type == 'K(D)':\n",
    "        ls_chart_name = ls_main + ls_tmp_element_name + ' K(SD)'\n",
    "        ls_x_label = 'Standard deviation'\n",
    "        ls_y_label = 'Kurtosis'     \n",
    "        ls_file_name2='-1-K(SD)'      \n",
    "    elif as_type == 'K(S)':\n",
    "        ls_chart_name = ls_main + ls_tmp_element_name + ' K(S)'\n",
    "        ls_x_label = 'Skewness'\n",
    "        ls_y_label = 'Kurtosis'\n",
    "        ls_file_name2='-2-K(S)'         \n",
    "    else:#if as_type not in S(D),K(D),S(K) then do nothing and exit\n",
    "        return \n",
    "    # plotting a scatter diagram    \n",
    "\n",
    "    fig = plt.figure(figsize=(10,5))\n",
    "    plt.title(ls_chart_name) \n",
    "    print (ls_chart_name+ls_tmp_element_name)\n",
    "    plt.xlabel(ls_x_label)\n",
    "    plt.ylabel(ls_y_label)\n",
    "    #plt.axis([-1, 10, -1, 5])\n",
    "    for i in range(0,len(df)): \n",
    "            if df['desc'][i] == 'all':\n",
    "                ls_tmp_color='red' \n",
    "            else:\n",
    "                ls_tmp_color='blue'\n",
    "            if as_type == 'S(D)':    \n",
    "                plt.scatter(df['std_deviation'][i], df['skewness'][i],color = ls_tmp_color) #df['mark'][i]\n",
    "                plt.text(df['std_deviation'][i], df['skewness'][i]+0.1, df['desc'][i], horizontalalignment='left', size='small', color='black')\n",
    "            elif as_type == 'K(D)': \n",
    "                plt.scatter(df['std_deviation'][i], df['kurtosis'][i],color = ls_tmp_color) #df['mark'][i]\n",
    "                plt.text(df['std_deviation'][i], df['kurtosis'][i]+0.1, df['desc'][i], horizontalalignment='left', size='small', color='black')\n",
    "            elif as_type == 'K(S)':                \n",
    "                plt.scatter(df['skewness'][i], df['kurtosis'][i],color = ls_tmp_color) #df['mark'][i]\n",
    "                plt.text(df['skewness'][i], df['kurtosis'][i]+0.1, df['desc'][i], horizontalalignment='left', size='small', color='black')\n",
    "    # save diagram  to jpg file              \n",
    "    plt.savefig(as_sub_folder+'/'+ls_tmp_element_name+ls_file_name2+'.jpg',bbox_inches='tight', dpi=150)\n"
   ]
  },
  {
   "cell_type": "code",
   "execution_count": 38,
   "id": "b8650774",
   "metadata": {},
   "outputs": [],
   "source": [
    "#specify subfolder where you want to create pictures\n",
    "ls_sub_folder='pic' #pictures with diagram will be uploaded to this subfolder\n",
    "if not(os.path.isdir(ls_sub_folder)) :\n",
    "    os.mkdir(ls_sub_folder)"
   ]
  },
  {
   "cell_type": "code",
   "execution_count": 39,
   "id": "510b17ec",
   "metadata": {
    "scrolled": true
   },
   "outputs": [
    {
     "name": "stdout",
     "output_type": "stream",
     "text": [
      "Ag\n",
      "Ag S(SD)Ag\n",
      "Ag\n",
      "Ag K(SD)Ag\n",
      "Ag\n",
      "Ag K(S)Ag\n",
      "Al\n",
      "main Al S(SD)Al\n",
      "Al\n",
      "main Al K(SD)Al\n",
      "Al\n",
      "main Al K(S)Al\n",
      "As\n",
      "As S(SD)As\n",
      "As\n",
      "As K(SD)As\n",
      "As\n",
      "As K(S)As\n",
      "Ba\n",
      "Ba S(SD)Ba\n",
      "Ba\n",
      "Ba K(SD)Ba\n",
      "Ba\n",
      "Ba K(S)Ba\n",
      "Be\n",
      "Be S(SD)Be\n",
      "Be\n",
      "Be K(SD)Be\n",
      "Be\n",
      "Be K(S)Be\n",
      "Bi\n",
      "Bi S(SD)Bi\n",
      "Bi\n",
      "Bi K(SD)Bi\n",
      "Bi\n",
      "Bi K(S)Bi\n",
      "Ca\n",
      "main Ca S(SD)Ca\n",
      "Ca\n",
      "main Ca K(SD)Ca\n"
     ]
    },
    {
     "name": "stderr",
     "output_type": "stream",
     "text": [
      "C:\\Users\\b_malahov\\AppData\\Local\\Temp\\ipykernel_7352\\2479899987.py:47: RuntimeWarning: More than 20 figures have been opened. Figures created through the pyplot interface (`matplotlib.pyplot.figure`) are retained until explicitly closed and may consume too much memory. (To control this warning, see the rcParam `figure.max_open_warning`).\n",
      "  fig = plt.figure(figsize=(10,5))\n"
     ]
    },
    {
     "name": "stdout",
     "output_type": "stream",
     "text": [
      "Ca\n",
      "main Ca K(S)Ca\n",
      "Cd\n",
      "Cd S(SD)Cd\n",
      "Cd\n",
      "Cd K(SD)Cd\n",
      "Cd\n",
      "Cd K(S)Cd\n",
      "Ce\n",
      "Ce S(SD)Ce\n",
      "Ce\n",
      "Ce K(SD)Ce\n",
      "Ce\n",
      "Ce K(S)Ce\n",
      "Co\n",
      "Co S(SD)Co\n",
      "Co\n",
      "Co K(SD)Co\n",
      "Co\n",
      "Co K(S)Co\n",
      "Cr\n",
      "Cr S(SD)Cr\n",
      "Cr\n",
      "Cr K(SD)Cr\n",
      "Cr\n",
      "Cr K(S)Cr\n",
      "Cs\n",
      "Cs S(SD)Cs\n",
      "Cs\n",
      "Cs K(SD)Cs\n",
      "Cs\n",
      "Cs K(S)Cs\n",
      "Fe\n",
      "main Fe S(SD)Fe\n",
      "Fe\n",
      "main Fe K(SD)Fe\n",
      "Fe\n",
      "main Fe K(S)Fe\n",
      "Ga\n",
      "Ga S(SD)Ga\n",
      "Ga\n",
      "Ga K(SD)Ga\n",
      "Ga\n",
      "Ga K(S)Ga\n",
      "Ge\n",
      "Ge S(SD)Ge\n",
      "Ge\n",
      "Ge K(SD)Ge\n",
      "Ge\n",
      "Ge K(S)Ge\n",
      "Hf\n",
      "Hf S(SD)Hf\n",
      "Hf\n",
      "Hf K(SD)Hf\n",
      "Hf\n",
      "Hf K(S)Hf\n",
      "In\n",
      "In S(SD)In\n",
      "In\n",
      "In K(SD)In\n",
      "In\n",
      "In K(S)In\n",
      "K\n",
      "main K S(SD)K\n",
      "K\n",
      "main K K(SD)K\n",
      "K\n",
      "main K K(S)K\n",
      "La\n",
      "La S(SD)La\n",
      "La\n",
      "La K(SD)La\n",
      "La\n",
      "La K(S)La\n",
      "Li\n",
      "Li S(SD)Li\n",
      "Li\n",
      "Li K(SD)Li\n",
      "Li\n",
      "Li K(S)Li\n",
      "Mg\n",
      "main Mg S(SD)Mg\n",
      "Mg\n",
      "main Mg K(SD)Mg\n",
      "Mg\n",
      "main Mg K(S)Mg\n",
      "Mn\n",
      "Mn S(SD)Mn\n",
      "Mn\n",
      "Mn K(SD)Mn\n",
      "Mn\n",
      "Mn K(S)Mn\n",
      "Mo\n",
      "Mo S(SD)Mo\n",
      "Mo\n",
      "Mo K(SD)Mo\n",
      "Mo\n",
      "Mo K(S)Mo\n",
      "Na\n",
      "main Na S(SD)Na\n",
      "Na\n",
      "main Na K(SD)Na\n",
      "Na\n",
      "main Na K(S)Na\n",
      "Nb\n",
      "Nb S(SD)Nb\n",
      "Nb\n",
      "Nb K(SD)Nb\n",
      "Nb\n",
      "Nb K(S)Nb\n",
      "Ni\n",
      "Ni S(SD)Ni\n",
      "Ni\n",
      "Ni K(SD)Ni\n",
      "Ni\n",
      "Ni K(S)Ni\n",
      "P\n",
      "P S(SD)P\n",
      "P\n",
      "P K(SD)P\n",
      "P\n",
      "P K(S)P\n",
      "Pb\n",
      "Pb S(SD)Pb\n",
      "Pb\n",
      "Pb K(SD)Pb\n",
      "Pb\n",
      "Pb K(S)Pb\n",
      "Rb\n",
      "Rb S(SD)Rb\n",
      "Rb\n",
      "Rb K(SD)Rb\n",
      "Rb\n",
      "Rb K(S)Rb\n",
      "Re\n",
      "Re S(SD)Re\n",
      "Re\n",
      "Re K(SD)Re\n",
      "Re\n",
      "Re K(S)Re\n",
      "S\n",
      "main S S(SD)S\n",
      "S\n",
      "main S K(SD)S\n",
      "S\n",
      "main S K(S)S\n",
      "Sb\n",
      "Sb S(SD)Sb\n",
      "Sb\n",
      "Sb K(SD)Sb\n",
      "Sb\n",
      "Sb K(S)Sb\n",
      "Sc\n",
      "Sc S(SD)Sc\n",
      "Sc\n",
      "Sc K(SD)Sc\n",
      "Sc\n",
      "Sc K(S)Sc\n",
      "Se\n",
      "Se S(SD)Se\n",
      "Se\n",
      "Se K(SD)Se\n",
      "Se\n",
      "Se K(S)Se\n",
      "Sn\n",
      "Sn S(SD)Sn\n",
      "Sn\n",
      "Sn K(SD)Sn\n",
      "Sn\n",
      "Sn K(S)Sn\n",
      "Sr\n",
      "Sr S(SD)Sr\n",
      "Sr\n",
      "Sr K(SD)Sr\n",
      "Sr\n",
      "Sr K(S)Sr\n",
      "Ta\n",
      "Ta S(SD)Ta\n",
      "Ta\n",
      "Ta K(SD)Ta\n",
      "Ta\n",
      "Ta K(S)Ta\n",
      "Te\n",
      "Te S(SD)Te\n",
      "Te\n",
      "Te K(SD)Te\n",
      "Te\n",
      "Te K(S)Te\n",
      "Th\n",
      "Th S(SD)Th\n",
      "Th\n",
      "Th K(SD)Th\n",
      "Th\n",
      "Th K(S)Th\n",
      "Ti\n",
      "main Ti S(SD)Ti\n",
      "Ti\n",
      "main Ti K(SD)Ti\n",
      "Ti\n",
      "main Ti K(S)Ti\n",
      "Tl\n",
      "Tl S(SD)Tl\n",
      "Tl\n",
      "Tl K(SD)Tl\n",
      "Tl\n",
      "Tl K(S)Tl\n",
      "U\n",
      "U S(SD)U\n",
      "U\n",
      "U K(SD)U\n",
      "U\n",
      "U K(S)U\n",
      "V\n",
      "V S(SD)V\n",
      "V\n",
      "V K(SD)V\n",
      "V\n",
      "V K(S)V\n",
      "W\n",
      "W S(SD)W\n",
      "W\n",
      "W K(SD)W\n",
      "W\n",
      "W K(S)W\n",
      "Y\n",
      "Y S(SD)Y\n",
      "Y\n",
      "Y K(SD)Y\n",
      "Y\n",
      "Y K(S)Y\n",
      "Zn\n",
      "Zn S(SD)Zn\n",
      "Zn\n",
      "Zn K(SD)Zn\n",
      "Zn\n",
      "Zn K(S)Zn\n",
      "Zr\n",
      "Zr S(SD)Zr\n",
      "Zr\n",
      "Zr K(SD)Zr\n",
      "Zr\n",
      "Zr K(S)Zr\n",
      "SiO\n",
      "SiO S(SD)SiO\n",
      "SiO\n",
      "SiO K(SD)SiO\n",
      "SiO\n",
      "SiO K(S)SiO\n"
     ]
    },
    {
     "data": {
      "text/plain": [
       "<Figure size 432x288 with 0 Axes>"
      ]
     },
     "metadata": {},
     "output_type": "display_data"
    },
    {
     "data": {
      "text/plain": [
       "<Figure size 720x360 with 0 Axes>"
      ]
     },
     "metadata": {},
     "output_type": "display_data"
    },
    {
     "data": {
      "text/plain": [
       "<Figure size 720x360 with 0 Axes>"
      ]
     },
     "metadata": {},
     "output_type": "display_data"
    },
    {
     "data": {
      "text/plain": [
       "<Figure size 720x360 with 0 Axes>"
      ]
     },
     "metadata": {},
     "output_type": "display_data"
    },
    {
     "data": {
      "text/plain": [
       "<Figure size 720x360 with 0 Axes>"
      ]
     },
     "metadata": {},
     "output_type": "display_data"
    },
    {
     "data": {
      "text/plain": [
       "<Figure size 720x360 with 0 Axes>"
      ]
     },
     "metadata": {},
     "output_type": "display_data"
    },
    {
     "data": {
      "text/plain": [
       "<Figure size 720x360 with 0 Axes>"
      ]
     },
     "metadata": {},
     "output_type": "display_data"
    },
    {
     "data": {
      "text/plain": [
       "<Figure size 720x360 with 0 Axes>"
      ]
     },
     "metadata": {},
     "output_type": "display_data"
    },
    {
     "data": {
      "text/plain": [
       "<Figure size 720x360 with 0 Axes>"
      ]
     },
     "metadata": {},
     "output_type": "display_data"
    },
    {
     "data": {
      "text/plain": [
       "<Figure size 720x360 with 0 Axes>"
      ]
     },
     "metadata": {},
     "output_type": "display_data"
    },
    {
     "data": {
      "text/plain": [
       "<Figure size 720x360 with 0 Axes>"
      ]
     },
     "metadata": {},
     "output_type": "display_data"
    },
    {
     "data": {
      "text/plain": [
       "<Figure size 720x360 with 0 Axes>"
      ]
     },
     "metadata": {},
     "output_type": "display_data"
    },
    {
     "data": {
      "text/plain": [
       "<Figure size 720x360 with 0 Axes>"
      ]
     },
     "metadata": {},
     "output_type": "display_data"
    },
    {
     "data": {
      "text/plain": [
       "<Figure size 720x360 with 0 Axes>"
      ]
     },
     "metadata": {},
     "output_type": "display_data"
    },
    {
     "data": {
      "text/plain": [
       "<Figure size 720x360 with 0 Axes>"
      ]
     },
     "metadata": {},
     "output_type": "display_data"
    },
    {
     "data": {
      "text/plain": [
       "<Figure size 720x360 with 0 Axes>"
      ]
     },
     "metadata": {},
     "output_type": "display_data"
    },
    {
     "data": {
      "text/plain": [
       "<Figure size 720x360 with 0 Axes>"
      ]
     },
     "metadata": {},
     "output_type": "display_data"
    },
    {
     "data": {
      "text/plain": [
       "<Figure size 720x360 with 0 Axes>"
      ]
     },
     "metadata": {},
     "output_type": "display_data"
    },
    {
     "data": {
      "text/plain": [
       "<Figure size 720x360 with 0 Axes>"
      ]
     },
     "metadata": {},
     "output_type": "display_data"
    },
    {
     "data": {
      "text/plain": [
       "<Figure size 720x360 with 0 Axes>"
      ]
     },
     "metadata": {},
     "output_type": "display_data"
    },
    {
     "data": {
      "text/plain": [
       "<Figure size 720x360 with 0 Axes>"
      ]
     },
     "metadata": {},
     "output_type": "display_data"
    },
    {
     "data": {
      "text/plain": [
       "<Figure size 720x360 with 0 Axes>"
      ]
     },
     "metadata": {},
     "output_type": "display_data"
    },
    {
     "data": {
      "text/plain": [
       "<Figure size 720x360 with 0 Axes>"
      ]
     },
     "metadata": {},
     "output_type": "display_data"
    },
    {
     "data": {
      "text/plain": [
       "<Figure size 720x360 with 0 Axes>"
      ]
     },
     "metadata": {},
     "output_type": "display_data"
    },
    {
     "data": {
      "text/plain": [
       "<Figure size 720x360 with 0 Axes>"
      ]
     },
     "metadata": {},
     "output_type": "display_data"
    },
    {
     "data": {
      "text/plain": [
       "<Figure size 720x360 with 0 Axes>"
      ]
     },
     "metadata": {},
     "output_type": "display_data"
    },
    {
     "data": {
      "text/plain": [
       "<Figure size 720x360 with 0 Axes>"
      ]
     },
     "metadata": {},
     "output_type": "display_data"
    },
    {
     "data": {
      "text/plain": [
       "<Figure size 720x360 with 0 Axes>"
      ]
     },
     "metadata": {},
     "output_type": "display_data"
    },
    {
     "data": {
      "text/plain": [
       "<Figure size 720x360 with 0 Axes>"
      ]
     },
     "metadata": {},
     "output_type": "display_data"
    },
    {
     "data": {
      "text/plain": [
       "<Figure size 720x360 with 0 Axes>"
      ]
     },
     "metadata": {},
     "output_type": "display_data"
    },
    {
     "data": {
      "text/plain": [
       "<Figure size 720x360 with 0 Axes>"
      ]
     },
     "metadata": {},
     "output_type": "display_data"
    },
    {
     "data": {
      "text/plain": [
       "<Figure size 720x360 with 0 Axes>"
      ]
     },
     "metadata": {},
     "output_type": "display_data"
    },
    {
     "data": {
      "text/plain": [
       "<Figure size 720x360 with 0 Axes>"
      ]
     },
     "metadata": {},
     "output_type": "display_data"
    },
    {
     "data": {
      "text/plain": [
       "<Figure size 720x360 with 0 Axes>"
      ]
     },
     "metadata": {},
     "output_type": "display_data"
    },
    {
     "data": {
      "text/plain": [
       "<Figure size 720x360 with 0 Axes>"
      ]
     },
     "metadata": {},
     "output_type": "display_data"
    },
    {
     "data": {
      "text/plain": [
       "<Figure size 720x360 with 0 Axes>"
      ]
     },
     "metadata": {},
     "output_type": "display_data"
    },
    {
     "data": {
      "text/plain": [
       "<Figure size 720x360 with 0 Axes>"
      ]
     },
     "metadata": {},
     "output_type": "display_data"
    },
    {
     "data": {
      "text/plain": [
       "<Figure size 720x360 with 0 Axes>"
      ]
     },
     "metadata": {},
     "output_type": "display_data"
    },
    {
     "data": {
      "text/plain": [
       "<Figure size 720x360 with 0 Axes>"
      ]
     },
     "metadata": {},
     "output_type": "display_data"
    },
    {
     "data": {
      "text/plain": [
       "<Figure size 720x360 with 0 Axes>"
      ]
     },
     "metadata": {},
     "output_type": "display_data"
    },
    {
     "data": {
      "text/plain": [
       "<Figure size 720x360 with 0 Axes>"
      ]
     },
     "metadata": {},
     "output_type": "display_data"
    },
    {
     "data": {
      "text/plain": [
       "<Figure size 720x360 with 0 Axes>"
      ]
     },
     "metadata": {},
     "output_type": "display_data"
    },
    {
     "data": {
      "text/plain": [
       "<Figure size 720x360 with 0 Axes>"
      ]
     },
     "metadata": {},
     "output_type": "display_data"
    },
    {
     "data": {
      "text/plain": [
       "<Figure size 720x360 with 0 Axes>"
      ]
     },
     "metadata": {},
     "output_type": "display_data"
    },
    {
     "data": {
      "text/plain": [
       "<Figure size 720x360 with 0 Axes>"
      ]
     },
     "metadata": {},
     "output_type": "display_data"
    },
    {
     "data": {
      "text/plain": [
       "<Figure size 720x360 with 0 Axes>"
      ]
     },
     "metadata": {},
     "output_type": "display_data"
    },
    {
     "data": {
      "text/plain": [
       "<Figure size 720x360 with 0 Axes>"
      ]
     },
     "metadata": {},
     "output_type": "display_data"
    },
    {
     "data": {
      "text/plain": [
       "<Figure size 720x360 with 0 Axes>"
      ]
     },
     "metadata": {},
     "output_type": "display_data"
    },
    {
     "data": {
      "text/plain": [
       "<Figure size 720x360 with 0 Axes>"
      ]
     },
     "metadata": {},
     "output_type": "display_data"
    },
    {
     "data": {
      "text/plain": [
       "<Figure size 720x360 with 0 Axes>"
      ]
     },
     "metadata": {},
     "output_type": "display_data"
    },
    {
     "data": {
      "text/plain": [
       "<Figure size 720x360 with 0 Axes>"
      ]
     },
     "metadata": {},
     "output_type": "display_data"
    },
    {
     "data": {
      "text/plain": [
       "<Figure size 720x360 with 0 Axes>"
      ]
     },
     "metadata": {},
     "output_type": "display_data"
    },
    {
     "data": {
      "text/plain": [
       "<Figure size 720x360 with 0 Axes>"
      ]
     },
     "metadata": {},
     "output_type": "display_data"
    },
    {
     "data": {
      "text/plain": [
       "<Figure size 720x360 with 0 Axes>"
      ]
     },
     "metadata": {},
     "output_type": "display_data"
    },
    {
     "data": {
      "text/plain": [
       "<Figure size 720x360 with 0 Axes>"
      ]
     },
     "metadata": {},
     "output_type": "display_data"
    },
    {
     "data": {
      "text/plain": [
       "<Figure size 720x360 with 0 Axes>"
      ]
     },
     "metadata": {},
     "output_type": "display_data"
    },
    {
     "data": {
      "text/plain": [
       "<Figure size 720x360 with 0 Axes>"
      ]
     },
     "metadata": {},
     "output_type": "display_data"
    },
    {
     "data": {
      "text/plain": [
       "<Figure size 720x360 with 0 Axes>"
      ]
     },
     "metadata": {},
     "output_type": "display_data"
    },
    {
     "data": {
      "text/plain": [
       "<Figure size 720x360 with 0 Axes>"
      ]
     },
     "metadata": {},
     "output_type": "display_data"
    },
    {
     "data": {
      "text/plain": [
       "<Figure size 720x360 with 0 Axes>"
      ]
     },
     "metadata": {},
     "output_type": "display_data"
    },
    {
     "data": {
      "text/plain": [
       "<Figure size 720x360 with 0 Axes>"
      ]
     },
     "metadata": {},
     "output_type": "display_data"
    },
    {
     "data": {
      "text/plain": [
       "<Figure size 720x360 with 0 Axes>"
      ]
     },
     "metadata": {},
     "output_type": "display_data"
    },
    {
     "data": {
      "text/plain": [
       "<Figure size 720x360 with 0 Axes>"
      ]
     },
     "metadata": {},
     "output_type": "display_data"
    },
    {
     "data": {
      "text/plain": [
       "<Figure size 720x360 with 0 Axes>"
      ]
     },
     "metadata": {},
     "output_type": "display_data"
    },
    {
     "data": {
      "text/plain": [
       "<Figure size 720x360 with 0 Axes>"
      ]
     },
     "metadata": {},
     "output_type": "display_data"
    },
    {
     "data": {
      "text/plain": [
       "<Figure size 720x360 with 0 Axes>"
      ]
     },
     "metadata": {},
     "output_type": "display_data"
    },
    {
     "data": {
      "text/plain": [
       "<Figure size 720x360 with 0 Axes>"
      ]
     },
     "metadata": {},
     "output_type": "display_data"
    },
    {
     "data": {
      "text/plain": [
       "<Figure size 720x360 with 0 Axes>"
      ]
     },
     "metadata": {},
     "output_type": "display_data"
    },
    {
     "data": {
      "text/plain": [
       "<Figure size 720x360 with 0 Axes>"
      ]
     },
     "metadata": {},
     "output_type": "display_data"
    },
    {
     "data": {
      "text/plain": [
       "<Figure size 720x360 with 0 Axes>"
      ]
     },
     "metadata": {},
     "output_type": "display_data"
    },
    {
     "data": {
      "text/plain": [
       "<Figure size 720x360 with 0 Axes>"
      ]
     },
     "metadata": {},
     "output_type": "display_data"
    },
    {
     "data": {
      "text/plain": [
       "<Figure size 720x360 with 0 Axes>"
      ]
     },
     "metadata": {},
     "output_type": "display_data"
    },
    {
     "data": {
      "text/plain": [
       "<Figure size 720x360 with 0 Axes>"
      ]
     },
     "metadata": {},
     "output_type": "display_data"
    },
    {
     "data": {
      "text/plain": [
       "<Figure size 720x360 with 0 Axes>"
      ]
     },
     "metadata": {},
     "output_type": "display_data"
    },
    {
     "data": {
      "text/plain": [
       "<Figure size 720x360 with 0 Axes>"
      ]
     },
     "metadata": {},
     "output_type": "display_data"
    },
    {
     "data": {
      "text/plain": [
       "<Figure size 720x360 with 0 Axes>"
      ]
     },
     "metadata": {},
     "output_type": "display_data"
    },
    {
     "data": {
      "text/plain": [
       "<Figure size 720x360 with 0 Axes>"
      ]
     },
     "metadata": {},
     "output_type": "display_data"
    },
    {
     "data": {
      "text/plain": [
       "<Figure size 720x360 with 0 Axes>"
      ]
     },
     "metadata": {},
     "output_type": "display_data"
    },
    {
     "data": {
      "text/plain": [
       "<Figure size 720x360 with 0 Axes>"
      ]
     },
     "metadata": {},
     "output_type": "display_data"
    },
    {
     "data": {
      "text/plain": [
       "<Figure size 720x360 with 0 Axes>"
      ]
     },
     "metadata": {},
     "output_type": "display_data"
    },
    {
     "data": {
      "text/plain": [
       "<Figure size 720x360 with 0 Axes>"
      ]
     },
     "metadata": {},
     "output_type": "display_data"
    },
    {
     "data": {
      "text/plain": [
       "<Figure size 720x360 with 0 Axes>"
      ]
     },
     "metadata": {},
     "output_type": "display_data"
    },
    {
     "data": {
      "text/plain": [
       "<Figure size 720x360 with 0 Axes>"
      ]
     },
     "metadata": {},
     "output_type": "display_data"
    },
    {
     "data": {
      "text/plain": [
       "<Figure size 720x360 with 0 Axes>"
      ]
     },
     "metadata": {},
     "output_type": "display_data"
    },
    {
     "data": {
      "text/plain": [
       "<Figure size 720x360 with 0 Axes>"
      ]
     },
     "metadata": {},
     "output_type": "display_data"
    },
    {
     "data": {
      "text/plain": [
       "<Figure size 720x360 with 0 Axes>"
      ]
     },
     "metadata": {},
     "output_type": "display_data"
    },
    {
     "data": {
      "text/plain": [
       "<Figure size 720x360 with 0 Axes>"
      ]
     },
     "metadata": {},
     "output_type": "display_data"
    },
    {
     "data": {
      "text/plain": [
       "<Figure size 720x360 with 0 Axes>"
      ]
     },
     "metadata": {},
     "output_type": "display_data"
    },
    {
     "data": {
      "text/plain": [
       "<Figure size 720x360 with 0 Axes>"
      ]
     },
     "metadata": {},
     "output_type": "display_data"
    },
    {
     "data": {
      "text/plain": [
       "<Figure size 720x360 with 0 Axes>"
      ]
     },
     "metadata": {},
     "output_type": "display_data"
    },
    {
     "data": {
      "text/plain": [
       "<Figure size 720x360 with 0 Axes>"
      ]
     },
     "metadata": {},
     "output_type": "display_data"
    },
    {
     "data": {
      "text/plain": [
       "<Figure size 720x360 with 0 Axes>"
      ]
     },
     "metadata": {},
     "output_type": "display_data"
    },
    {
     "data": {
      "text/plain": [
       "<Figure size 720x360 with 0 Axes>"
      ]
     },
     "metadata": {},
     "output_type": "display_data"
    },
    {
     "data": {
      "text/plain": [
       "<Figure size 720x360 with 0 Axes>"
      ]
     },
     "metadata": {},
     "output_type": "display_data"
    },
    {
     "data": {
      "text/plain": [
       "<Figure size 720x360 with 0 Axes>"
      ]
     },
     "metadata": {},
     "output_type": "display_data"
    },
    {
     "data": {
      "text/plain": [
       "<Figure size 720x360 with 0 Axes>"
      ]
     },
     "metadata": {},
     "output_type": "display_data"
    },
    {
     "data": {
      "text/plain": [
       "<Figure size 720x360 with 0 Axes>"
      ]
     },
     "metadata": {},
     "output_type": "display_data"
    },
    {
     "data": {
      "text/plain": [
       "<Figure size 720x360 with 0 Axes>"
      ]
     },
     "metadata": {},
     "output_type": "display_data"
    },
    {
     "data": {
      "text/plain": [
       "<Figure size 720x360 with 0 Axes>"
      ]
     },
     "metadata": {},
     "output_type": "display_data"
    },
    {
     "data": {
      "text/plain": [
       "<Figure size 720x360 with 0 Axes>"
      ]
     },
     "metadata": {},
     "output_type": "display_data"
    },
    {
     "data": {
      "text/plain": [
       "<Figure size 720x360 with 0 Axes>"
      ]
     },
     "metadata": {},
     "output_type": "display_data"
    },
    {
     "data": {
      "text/plain": [
       "<Figure size 720x360 with 0 Axes>"
      ]
     },
     "metadata": {},
     "output_type": "display_data"
    },
    {
     "data": {
      "text/plain": [
       "<Figure size 720x360 with 0 Axes>"
      ]
     },
     "metadata": {},
     "output_type": "display_data"
    },
    {
     "data": {
      "text/plain": [
       "<Figure size 720x360 with 0 Axes>"
      ]
     },
     "metadata": {},
     "output_type": "display_data"
    },
    {
     "data": {
      "text/plain": [
       "<Figure size 720x360 with 0 Axes>"
      ]
     },
     "metadata": {},
     "output_type": "display_data"
    },
    {
     "data": {
      "text/plain": [
       "<Figure size 720x360 with 0 Axes>"
      ]
     },
     "metadata": {},
     "output_type": "display_data"
    },
    {
     "data": {
      "text/plain": [
       "<Figure size 720x360 with 0 Axes>"
      ]
     },
     "metadata": {},
     "output_type": "display_data"
    },
    {
     "data": {
      "text/plain": [
       "<Figure size 720x360 with 0 Axes>"
      ]
     },
     "metadata": {},
     "output_type": "display_data"
    },
    {
     "data": {
      "text/plain": [
       "<Figure size 720x360 with 0 Axes>"
      ]
     },
     "metadata": {},
     "output_type": "display_data"
    },
    {
     "data": {
      "text/plain": [
       "<Figure size 720x360 with 0 Axes>"
      ]
     },
     "metadata": {},
     "output_type": "display_data"
    },
    {
     "data": {
      "text/plain": [
       "<Figure size 720x360 with 0 Axes>"
      ]
     },
     "metadata": {},
     "output_type": "display_data"
    },
    {
     "data": {
      "text/plain": [
       "<Figure size 720x360 with 0 Axes>"
      ]
     },
     "metadata": {},
     "output_type": "display_data"
    },
    {
     "data": {
      "text/plain": [
       "<Figure size 720x360 with 0 Axes>"
      ]
     },
     "metadata": {},
     "output_type": "display_data"
    },
    {
     "data": {
      "text/plain": [
       "<Figure size 720x360 with 0 Axes>"
      ]
     },
     "metadata": {},
     "output_type": "display_data"
    },
    {
     "data": {
      "text/plain": [
       "<Figure size 720x360 with 0 Axes>"
      ]
     },
     "metadata": {},
     "output_type": "display_data"
    },
    {
     "data": {
      "text/plain": [
       "<Figure size 720x360 with 0 Axes>"
      ]
     },
     "metadata": {},
     "output_type": "display_data"
    },
    {
     "data": {
      "text/plain": [
       "<Figure size 720x360 with 0 Axes>"
      ]
     },
     "metadata": {},
     "output_type": "display_data"
    },
    {
     "data": {
      "text/plain": [
       "<Figure size 720x360 with 0 Axes>"
      ]
     },
     "metadata": {},
     "output_type": "display_data"
    },
    {
     "data": {
      "text/plain": [
       "<Figure size 720x360 with 0 Axes>"
      ]
     },
     "metadata": {},
     "output_type": "display_data"
    },
    {
     "data": {
      "text/plain": [
       "<Figure size 720x360 with 0 Axes>"
      ]
     },
     "metadata": {},
     "output_type": "display_data"
    },
    {
     "data": {
      "text/plain": [
       "<Figure size 720x360 with 0 Axes>"
      ]
     },
     "metadata": {},
     "output_type": "display_data"
    },
    {
     "data": {
      "text/plain": [
       "<Figure size 720x360 with 0 Axes>"
      ]
     },
     "metadata": {},
     "output_type": "display_data"
    },
    {
     "data": {
      "text/plain": [
       "<Figure size 720x360 with 0 Axes>"
      ]
     },
     "metadata": {},
     "output_type": "display_data"
    },
    {
     "data": {
      "text/plain": [
       "<Figure size 720x360 with 0 Axes>"
      ]
     },
     "metadata": {},
     "output_type": "display_data"
    },
    {
     "data": {
      "text/plain": [
       "<Figure size 720x360 with 0 Axes>"
      ]
     },
     "metadata": {},
     "output_type": "display_data"
    },
    {
     "data": {
      "text/plain": [
       "<Figure size 720x360 with 0 Axes>"
      ]
     },
     "metadata": {},
     "output_type": "display_data"
    },
    {
     "data": {
      "text/plain": [
       "<Figure size 720x360 with 0 Axes>"
      ]
     },
     "metadata": {},
     "output_type": "display_data"
    },
    {
     "data": {
      "text/plain": [
       "<Figure size 720x360 with 0 Axes>"
      ]
     },
     "metadata": {},
     "output_type": "display_data"
    },
    {
     "data": {
      "text/plain": [
       "<Figure size 720x360 with 0 Axes>"
      ]
     },
     "metadata": {},
     "output_type": "display_data"
    },
    {
     "data": {
      "text/plain": [
       "<Figure size 720x360 with 0 Axes>"
      ]
     },
     "metadata": {},
     "output_type": "display_data"
    },
    {
     "data": {
      "text/plain": [
       "<Figure size 720x360 with 0 Axes>"
      ]
     },
     "metadata": {},
     "output_type": "display_data"
    },
    {
     "data": {
      "text/plain": [
       "<Figure size 720x360 with 0 Axes>"
      ]
     },
     "metadata": {},
     "output_type": "display_data"
    },
    {
     "data": {
      "text/plain": [
       "<Figure size 720x360 with 0 Axes>"
      ]
     },
     "metadata": {},
     "output_type": "display_data"
    },
    {
     "data": {
      "text/plain": [
       "<Figure size 720x360 with 0 Axes>"
      ]
     },
     "metadata": {},
     "output_type": "display_data"
    },
    {
     "data": {
      "text/plain": [
       "<Figure size 720x360 with 0 Axes>"
      ]
     },
     "metadata": {},
     "output_type": "display_data"
    },
    {
     "data": {
      "text/plain": [
       "<Figure size 720x360 with 0 Axes>"
      ]
     },
     "metadata": {},
     "output_type": "display_data"
    },
    {
     "data": {
      "text/plain": [
       "<Figure size 720x360 with 0 Axes>"
      ]
     },
     "metadata": {},
     "output_type": "display_data"
    },
    {
     "data": {
      "text/plain": [
       "<Figure size 720x360 with 0 Axes>"
      ]
     },
     "metadata": {},
     "output_type": "display_data"
    },
    {
     "data": {
      "text/plain": [
       "<Figure size 720x360 with 0 Axes>"
      ]
     },
     "metadata": {},
     "output_type": "display_data"
    },
    {
     "data": {
      "text/plain": [
       "<Figure size 720x360 with 0 Axes>"
      ]
     },
     "metadata": {},
     "output_type": "display_data"
    },
    {
     "data": {
      "text/plain": [
       "<Figure size 720x360 with 0 Axes>"
      ]
     },
     "metadata": {},
     "output_type": "display_data"
    },
    {
     "data": {
      "text/plain": [
       "<Figure size 720x360 with 0 Axes>"
      ]
     },
     "metadata": {},
     "output_type": "display_data"
    },
    {
     "data": {
      "text/plain": [
       "<Figure size 720x360 with 0 Axes>"
      ]
     },
     "metadata": {},
     "output_type": "display_data"
    },
    {
     "data": {
      "text/plain": [
       "<Figure size 720x360 with 0 Axes>"
      ]
     },
     "metadata": {},
     "output_type": "display_data"
    },
    {
     "data": {
      "image/png": "[encoded data removed]",
      "text/plain": [
       "<Figure size 720x360 with 1 Axes>"
      ]
     },
     "metadata": {
      "needs_background": "light"
     },
     "output_type": "display_data"
    }
   ],
   "source": [
    "#generate 144 diagrams in pic folder ls_sub_folder\n",
    "for i in range(0, len(elements_list)):\n",
    "#for i in range(0, 1):    \n",
    "    #this regexp clears elements_list from extra characters\n",
    "    reg = re.compile('[^a-zA-Z ]')\n",
    "    ls_tmp_element_name=reg.sub('', str(elements_list[i]))   \n",
    "    #create 3 diagram files to each element \n",
    "    f_plot_drill_scatter(ls_tmp_element_name,'S(D)',ls_sub_folder,connect_db)\n",
    "    f_plot_drill_scatter(ls_tmp_element_name,'K(D)',ls_sub_folder,connect_db)\n",
    "    f_plot_drill_scatter(ls_tmp_element_name,'K(S)',ls_sub_folder,connect_db)        "
   ]
  },
  {
   "cell_type": "code",
   "execution_count": 35,
   "id": "a0be8f07",
   "metadata": {},
   "outputs": [
    {
     "data": {
      "text/plain": [
       "\"Let's analyse 144 scatter diagrams in subfolder ../pic\""
      ]
     },
     "execution_count": 35,
     "metadata": {},
     "output_type": "execute_result"
    }
   ],
   "source": [
    "\"Let's analyse 144 scatter diagrams in subfolder ../\"+ls_sub_folder"
   ]
  }
 ],
 "metadata": {
  "kernelspec": {
   "display_name": "Python 3 (ipykernel)",
   "language": "python",
   "name": "python3"
  },
  "language_info": {
   "codemirror_mode": {
    "name": "ipython",
    "version": 3
   },
   "file_extension": ".py",
   "mimetype": "text/x-python",
   "name": "python",
   "nbconvert_exporter": "python",
   "pygments_lexer": "ipython3",
   "version": "3.9.12"
  }
 },
 "nbformat": 4,
 "nbformat_minor": 5
}
